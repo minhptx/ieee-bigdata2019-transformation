{
 "cells": [
  {
   "cell_type": "markdown",
   "metadata": {},
   "source": [
    "# Data Transformation Experiment\n",
    "\n",
    "This notebook presents the data transformation experiment in `Learning Data Transformations with Minimal User Effort`."
   ]
  },
  {
   "cell_type": "code",
   "execution_count": 1,
   "metadata": {},
   "outputs": [],
   "source": [
    "%load_ext autoreload\n",
    "%autoreload 2\n",
    "\n",
    "import sys\n",
    "import pandas as pd\n",
    "\n",
    "import plotly.graph_objs as go\n",
    "from plotly.offline import plot, iplot, init_notebook_mode\n",
    "\n",
    "from sacred import Experiment\n",
    "from sacred.observers import MongoObserver\n",
    "\n",
    "init_notebook_mode()\n",
    "\n",
    "if \"..\" not in sys.path:\n",
    "    sys.path.append(\"..\")"
   ]
  },
  {
   "cell_type": "markdown",
   "metadata": {},
   "source": [
    "Experiment enviroment are setup using Sacred. Experiments are recorded in MongoDB database."
   ]
  },
  {
   "cell_type": "code",
   "execution_count": 2,
   "metadata": {},
   "outputs": [],
   "source": [
    "import logging\n",
    "from pathlib import Path\n",
    "from datafc.eval import Evaluator\n",
    "from datafc.utils.logging import setup_logging\n",
    "\n",
    "setup_logging(\"../conf/logging.yaml\")\n",
    "\n",
    "# specify data path\n",
    "data_folder = Path(\"../data\")\n",
    "\n",
    "# specify method\n",
    "\n",
    "ex = Experiment(\"jupyter_ex\", interactive=True)\n",
    "ex.observers.append(MongoObserver.create())\n",
    "ex.logger = logging.getLogger(\"mynotebook\")\n",
    "\n",
    "\n",
    "@ex.config\n",
    "def config():\n",
    "    # these configurations only affects udata method\n",
    "    mapping_method = \"sim\"\n",
    "    mapping_features = [\"jaccard\", \"syn\", \"token_jaccard\"]\n",
    "    with_flashfill = False\n",
    "    num_example = 1000\n",
    "    k = 1\n",
    "\n",
    "\n",
    "@ex.main\n",
    "def run(\n",
    "    dataset, method, mapping_method, mapping_features, with_flashfill, num_example, k\n",
    "):\n",
    "    evaluator = Evaluator(\n",
    "        mapping_method, mapping_features, with_flashfill, num_example, k\n",
    "    )\n",
    "    return evaluator.run_dataset(data_folder / method / dataset, method)"
   ]
  },
  {
   "cell_type": "markdown",
   "metadata": {},
   "source": [
    "Experiments are run on 5 different datasets: `museum`, `ijcai`, `sygus`, `nyc` and `prog`. Evaluation for FlashFill and UData systems can be run using this notebook.\n",
    "* UData: run as python program included in datafc folder.\n",
    "* FlashFill: run using Excel macro to call built-in FlashFill plugin in Excel. "
   ]
  },
  {
   "cell_type": "code",
   "execution_count": 20,
   "metadata": {},
   "outputs": [],
   "source": [
    "# Specify methods here\n",
    "methods = [\"ipbe\"]"
   ]
  },
  {
   "cell_type": "code",
   "execution_count": 21,
   "metadata": {},
   "outputs": [],
   "source": [
    "# Specify datasets here\n",
    "datasets = [\"prog\", \"nyc\", \"sygus\", \"ijcai\", \"museum\"]"
   ]
  },
  {
   "cell_type": "code",
   "execution_count": 43,
   "metadata": {},
   "outputs": [
    {
     "name": "stdout",
     "output_type": "stream",
     "text": [
      "Running ipbe method\n",
      " - Dataset: prog\n",
      " - Dataset: nyc\n",
      " - Dataset: sygus\n",
      " - Dataset: ijcai\n",
      " - Dataset: museum\n"
     ]
    }
   ],
   "source": [
    "dataset_to_result = {}\n",
    "\n",
    "for method in methods:\n",
    "    print(f\"Running {method} method\")\n",
    "    for dataset in datasets:\n",
    "        print(f\" - Dataset: {dataset}\")\n",
    "        dataset_to_result[dataset] = ex.run(config_updates={\"dataset\": dataset, \"method\": method}).result"
   ]
  },
  {
   "cell_type": "markdown",
   "metadata": {},
   "source": [
    "## Detailed result of the experiment is shown below:"
   ]
  },
  {
   "cell_type": "code",
   "execution_count": 44,
   "metadata": {},
   "outputs": [],
   "source": [
    "# Experiment that runs flashfill on museum data cannot be stored. Uncomment this cell to store the result in csv format.\n",
    "\n",
    "# report = DatasetReport(\"museum\", dataset_to_result[\"museum\"])\n",
    "# df = DatasetReport.generate_report_frame([report])\n",
    "# df.to_csv(\"../result/flash_fill.csv\")"
   ]
  },
  {
   "cell_type": "code",
   "execution_count": 45,
   "metadata": {
    "scrolled": true
   },
   "outputs": [],
   "source": [
    "from pymongo import MongoClient\n",
    "from datafc.eval.report import DatasetReport, ScenarioReport\n",
    "import qgrid\n",
    "\n",
    "pd.set_option(\"display.max_rows\", None)\n",
    "pd.set_option(\"display.max_columns\", None)\n",
    "\n",
    "dataset_to_report = []\n",
    "\n",
    "reviewing_methods = [\"ipbe\"]\n",
    "reviewing_datasets = [\"prog\", \"nyc\", \"sygus\", \"ijcai\", \"museum\"]\n",
    "\n",
    "client = MongoClient()\n",
    "for method in reviewing_methods:\n",
    "    for dataset in reviewing_datasets:\n",
    "        if method == \"flashfill\" and dataset == \"museum\":\n",
    "            continue\n",
    "            \n",
    "        dataset_result = client.sacred.runs.find_one(\n",
    "            {\"config.dataset\": dataset, \"config.method\": method, \"result\": {\"$ne\": None}}, sort=[(\"$natural\", -1)]\n",
    "        )\n",
    "        dataset_to_report.append(DatasetReport(dataset, dataset_result[\"result\"]))"
   ]
  },
  {
   "cell_type": "code",
   "execution_count": 46,
   "metadata": {},
   "outputs": [
    {
     "data": {
      "text/html": [
       "<div>\n",
       "<style scoped>\n",
       "    .dataframe tbody tr th:only-of-type {\n",
       "        vertical-align: middle;\n",
       "    }\n",
       "\n",
       "    .dataframe tbody tr th {\n",
       "        vertical-align: top;\n",
       "    }\n",
       "\n",
       "    .dataframe thead th {\n",
       "        text-align: right;\n",
       "    }\n",
       "</style>\n",
       "<table border=\"1\" class=\"dataframe\">\n",
       "  <thead>\n",
       "    <tr style=\"text-align: right;\">\n",
       "      <th></th>\n",
       "      <th>name</th>\n",
       "      <th>num_scenarios</th>\n",
       "      <th>num_correct</th>\n",
       "      <th>macro_mean_acc</th>\n",
       "      <th>macro_top_k_acc</th>\n",
       "      <th>example_valid_p</th>\n",
       "      <th>example_valid_r</th>\n",
       "      <th>example_valid_f1</th>\n",
       "      <th>mean_running_time</th>\n",
       "      <th>s_valid_p</th>\n",
       "      <th>s_valid_r</th>\n",
       "      <th>s_valid_f1</th>\n",
       "      <th>valid_accuracy</th>\n",
       "    </tr>\n",
       "  </thead>\n",
       "  <tbody>\n",
       "    <tr>\n",
       "      <th>0</th>\n",
       "      <td>prog</td>\n",
       "      <td>6</td>\n",
       "      <td>5</td>\n",
       "      <td>0.985714</td>\n",
       "      <td>0.985714</td>\n",
       "      <td>1.0</td>\n",
       "      <td>1.0</td>\n",
       "      <td>1.0</td>\n",
       "      <td>4.241667</td>\n",
       "      <td>1</td>\n",
       "      <td>1</td>\n",
       "      <td>1.0</td>\n",
       "      <td>1.0</td>\n",
       "    </tr>\n",
       "    <tr>\n",
       "      <th>1</th>\n",
       "      <td>nyc</td>\n",
       "      <td>5</td>\n",
       "      <td>4</td>\n",
       "      <td>0.972727</td>\n",
       "      <td>0.972727</td>\n",
       "      <td>1.0</td>\n",
       "      <td>1.0</td>\n",
       "      <td>1.0</td>\n",
       "      <td>36.072000</td>\n",
       "      <td>1</td>\n",
       "      <td>1</td>\n",
       "      <td>1.0</td>\n",
       "      <td>1.0</td>\n",
       "    </tr>\n",
       "    <tr>\n",
       "      <th>2</th>\n",
       "      <td>sygus</td>\n",
       "      <td>27</td>\n",
       "      <td>21</td>\n",
       "      <td>0.940586</td>\n",
       "      <td>0.940586</td>\n",
       "      <td>1.0</td>\n",
       "      <td>1.0</td>\n",
       "      <td>1.0</td>\n",
       "      <td>1.210700</td>\n",
       "      <td>1</td>\n",
       "      <td>1</td>\n",
       "      <td>1.0</td>\n",
       "      <td>1.0</td>\n",
       "    </tr>\n",
       "    <tr>\n",
       "      <th>3</th>\n",
       "      <td>ijcai</td>\n",
       "      <td>36</td>\n",
       "      <td>17</td>\n",
       "      <td>0.830475</td>\n",
       "      <td>0.830475</td>\n",
       "      <td>1.0</td>\n",
       "      <td>1.0</td>\n",
       "      <td>1.0</td>\n",
       "      <td>36.814198</td>\n",
       "      <td>1</td>\n",
       "      <td>1</td>\n",
       "      <td>1.0</td>\n",
       "      <td>1.0</td>\n",
       "    </tr>\n",
       "    <tr>\n",
       "      <th>4</th>\n",
       "      <td>museum</td>\n",
       "      <td>173</td>\n",
       "      <td>165</td>\n",
       "      <td>0.988341</td>\n",
       "      <td>0.988341</td>\n",
       "      <td>1.0</td>\n",
       "      <td>1.0</td>\n",
       "      <td>1.0</td>\n",
       "      <td>3.941545</td>\n",
       "      <td>1</td>\n",
       "      <td>1</td>\n",
       "      <td>1.0</td>\n",
       "      <td>1.0</td>\n",
       "    </tr>\n",
       "  </tbody>\n",
       "</table>\n",
       "</div>"
      ],
      "text/plain": [
       "     name  num_scenarios  num_correct  macro_mean_acc  macro_top_k_acc  \\\n",
       "0    prog              6            5        0.985714         0.985714   \n",
       "1     nyc              5            4        0.972727         0.972727   \n",
       "2   sygus             27           21        0.940586         0.940586   \n",
       "3   ijcai             36           17        0.830475         0.830475   \n",
       "4  museum            173          165        0.988341         0.988341   \n",
       "\n",
       "   example_valid_p  example_valid_r  example_valid_f1  mean_running_time  \\\n",
       "0              1.0              1.0               1.0           4.241667   \n",
       "1              1.0              1.0               1.0          36.072000   \n",
       "2              1.0              1.0               1.0           1.210700   \n",
       "3              1.0              1.0               1.0          36.814198   \n",
       "4              1.0              1.0               1.0           3.941545   \n",
       "\n",
       "   s_valid_p  s_valid_r  s_valid_f1  valid_accuracy  \n",
       "0          1          1         1.0             1.0  \n",
       "1          1          1         1.0             1.0  \n",
       "2          1          1         1.0             1.0  \n",
       "3          1          1         1.0             1.0  \n",
       "4          1          1         1.0             1.0  "
      ]
     },
     "execution_count": 46,
     "metadata": {},
     "output_type": "execute_result"
    }
   ],
   "source": [
    "df = DatasetReport.generate_report_frame(dataset_to_report)\n",
    "df"
   ]
  },
  {
   "cell_type": "markdown",
   "metadata": {},
   "source": [
    "### Detailed results for scenarios in each dataset:"
   ]
  },
  {
   "cell_type": "markdown",
   "metadata": {},
   "source": [
    "You can review the detail of every scenario in one dataset as follows:"
   ]
  },
  {
   "cell_type": "code",
   "execution_count": 75,
   "metadata": {},
   "outputs": [
    {
     "data": {
      "text/html": [
       "<div>\n",
       "<style scoped>\n",
       "    .dataframe tbody tr th:only-of-type {\n",
       "        vertical-align: middle;\n",
       "    }\n",
       "\n",
       "    .dataframe tbody tr th {\n",
       "        vertical-align: top;\n",
       "    }\n",
       "\n",
       "    .dataframe thead th {\n",
       "        text-align: right;\n",
       "    }\n",
       "</style>\n",
       "<table border=\"1\" class=\"dataframe\">\n",
       "  <thead>\n",
       "    <tr style=\"text-align: right;\">\n",
       "      <th></th>\n",
       "      <th>name</th>\n",
       "      <th>micro_acc</th>\n",
       "      <th>micro_top_k_acc</th>\n",
       "      <th>validation_p</th>\n",
       "      <th>validation_r</th>\n",
       "      <th>validation_f1</th>\n",
       "      <th>transformation_result</th>\n",
       "      <th>validation_result</th>\n",
       "      <th>running_time</th>\n",
       "    </tr>\n",
       "  </thead>\n",
       "  <tbody>\n",
       "    <tr>\n",
       "      <th>0</th>\n",
       "      <td>address</td>\n",
       "      <td>0.010381</td>\n",
       "      <td>0.010381</td>\n",
       "      <td>0.989619</td>\n",
       "      <td>1.0</td>\n",
       "      <td>0.994783</td>\n",
       "      <td>False</td>\n",
       "      <td>TP</td>\n",
       "      <td>7.348250</td>\n",
       "    </tr>\n",
       "    <tr>\n",
       "      <th>1</th>\n",
       "      <td>city</td>\n",
       "      <td>1.000000</td>\n",
       "      <td>1.000000</td>\n",
       "      <td>1.000000</td>\n",
       "      <td>1.0</td>\n",
       "      <td>1.000000</td>\n",
       "      <td>True</td>\n",
       "      <td>TN</td>\n",
       "      <td>1.938999</td>\n",
       "    </tr>\n",
       "    <tr>\n",
       "      <th>2</th>\n",
       "      <td>lat-long</td>\n",
       "      <td>1.000000</td>\n",
       "      <td>1.000000</td>\n",
       "      <td>0.000000</td>\n",
       "      <td>1.0</td>\n",
       "      <td>0.000000</td>\n",
       "      <td>True</td>\n",
       "      <td>FP</td>\n",
       "      <td>0.334103</td>\n",
       "    </tr>\n",
       "    <tr>\n",
       "      <th>3</th>\n",
       "      <td>name</td>\n",
       "      <td>1.000000</td>\n",
       "      <td>1.000000</td>\n",
       "      <td>0.000000</td>\n",
       "      <td>1.0</td>\n",
       "      <td>0.000000</td>\n",
       "      <td>True</td>\n",
       "      <td>FP</td>\n",
       "      <td>0.047000</td>\n",
       "    </tr>\n",
       "    <tr>\n",
       "      <th>4</th>\n",
       "      <td>website</td>\n",
       "      <td>0.454545</td>\n",
       "      <td>0.454545</td>\n",
       "      <td>0.545455</td>\n",
       "      <td>1.0</td>\n",
       "      <td>0.705882</td>\n",
       "      <td>False</td>\n",
       "      <td>TP</td>\n",
       "      <td>1.050002</td>\n",
       "    </tr>\n",
       "  </tbody>\n",
       "</table>\n",
       "</div>"
      ],
      "text/plain": [
       "       name  micro_acc  micro_top_k_acc  validation_p  validation_r  \\\n",
       "0   address   0.010381         0.010381      0.989619           1.0   \n",
       "1      city   1.000000         1.000000      1.000000           1.0   \n",
       "2  lat-long   1.000000         1.000000      0.000000           1.0   \n",
       "3      name   1.000000         1.000000      0.000000           1.0   \n",
       "4   website   0.454545         0.454545      0.545455           1.0   \n",
       "\n",
       "   validation_f1  transformation_result validation_result  running_time  \n",
       "0       0.994783                  False                TP      7.348250  \n",
       "1       1.000000                   True                TN      1.938999  \n",
       "2       0.000000                   True                FP      0.334103  \n",
       "3       0.000000                   True                FP      0.047000  \n",
       "4       0.705882                  False                TP      1.050002  "
      ]
     },
     "metadata": {},
     "output_type": "display_data"
    }
   ],
   "source": [
    "from datafc.eval.report import ScenarioReport\n",
    "import qgrid\n",
    "\n",
    "def show_result_df(dataset):\n",
    "    df = ScenarioReport.generate_report_frame(dataset_to_report[dataset].scenario_to_report.values())\n",
    "    display(df)\n",
    "    \n",
    "show_result_df(\"nyc\")"
   ]
  }
 ],
 "metadata": {
  "kernelspec": {
   "display_name": "Python 3",
   "language": "python",
   "name": "python3"
  },
  "language_info": {
   "codemirror_mode": {
    "name": "ipython",
    "version": 3
   },
   "file_extension": ".py",
   "mimetype": "text/x-python",
   "name": "python",
   "nbconvert_exporter": "python",
   "pygments_lexer": "ipython3",
   "version": "3.7.3"
  },
  "pycharm": {
   "stem_cell": {
    "cell_type": "raw",
    "metadata": {
     "collapsed": false
    },
    "source": []
   }
  }
 },
 "nbformat": 4,
 "nbformat_minor": 4
}

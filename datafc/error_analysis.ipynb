{
 "cells": [
  {
   "cell_type": "code",
   "execution_count": 10,
   "metadata": {},
   "outputs": [
    {
     "name": "stdout",
     "output_type": "stream",
     "text": [
      "The autoreload extension is already loaded. To reload it, use:\n",
      "  %reload_ext autoreload\n"
     ]
    }
   ],
   "source": [
    "%load_ext autoreload\n",
    "%autoreload 2\n",
    "\n",
    "import sys\n",
    "import qgrid\n",
    "import pandas as pd\n",
    "from pymongo import MongoClient\n",
    "\n",
    "if \"..\" not in sys.path:\n",
    "    sys.path.append(\"..\")\n",
    "    \n",
    "from datafc.eval.report import DatasetReport"
   ]
  },
  {
   "cell_type": "code",
   "execution_count": 11,
   "metadata": {},
   "outputs": [],
   "source": [
    "client = MongoClient()\n",
    "\n",
    "datasets = [\"nyc\", \"prog\", \"sygus\"]\n",
    "\n",
    "dataset_to_report = {}\n",
    "\n",
    "for dataset in datasets:\n",
    "    dataset_result = client.sacred.runs.find_one(\n",
    "        {\"config.dataset\": dataset, \"result\": {\"$ne\": None}}, sort=[(\"$natural\", -1)]\n",
    "    )\n",
    "    dataset_to_report[dataset] = DatasetReport(dataset, dataset_result[\"result\"])"
   ]
  },
  {
   "cell_type": "code",
   "execution_count": 12,
   "metadata": {},
   "outputs": [
    {
     "data": {
      "application/vnd.jupyter.widget-view+json": {
       "model_id": "57622708cc154dd284df2ba2985696fe",
       "version_major": 2,
       "version_minor": 0
      },
      "text/plain": [
       "interactive(children=(Dropdown(description='dataset', options=('nyc', 'prog', 'sygus'), value='nyc'), Dropdown…"
      ]
     },
     "metadata": {},
     "output_type": "display_data"
    }
   ],
   "source": [
    "from ipywidgets import widgets\n",
    "from ipywidgets import interact, interact_manual\n",
    "\n",
    "dataset_select = widgets.Dropdown(description=\"dataset\", options=datasets)\n",
    "scenario_select = widgets.Dropdown(\n",
    "    description=\"scenario\",\n",
    "    options=dataset_to_report[dataset_select.value].scenario_to_report.keys(),\n",
    ")\n",
    "category_select = widgets.Dropdown(\n",
    "    description=\"category\", options=[\"transformation\", \"validation\"]\n",
    ")\n",
    "\n",
    "\n",
    "def show_scenarios(change):\n",
    "    dataset = change[\"new\"]\n",
    "    scenario_select.options = dataset_to_report[dataset].scenario_to_report.keys()\n",
    "\n",
    "\n",
    "dataset_select.observe(show_scenarios, names='value')\n",
    "\n",
    "\n",
    "def show_failed_cases(dataset, scenario, category):\n",
    "    if category == \"transformation\":\n",
    "        failed_cases = dataset_to_report[dataset].scenario_to_report[scenario].failed_transformations\n",
    "    else:\n",
    "        failed_cases = dataset_to_report[dataset].scenario_to_report[scenario].failed_validations\n",
    "    examples = [\n",
    "        x\n",
    "        for x in failed_cases\n",
    "    ]\n",
    "    df = pd.DataFrame(\n",
    "        examples,\n",
    "        columns=[\n",
    "            \"original_value\",\n",
    "            \"transformed_values\",\n",
    "            \"groundtruth_value\",\n",
    "            \"validation_components\",\n",
    "            \"validation_result\",\n",
    "        ],\n",
    "    )\n",
    "    display(df)\n",
    "\n",
    "\n",
    "_ = interact(\n",
    "    show_failed_cases,\n",
    "    dataset=dataset_select,\n",
    "    scenario=scenario_select,\n",
    "    category=category_select,\n",
    ")"
   ]
  },
  {
   "cell_type": "code",
   "execution_count": null,
   "metadata": {},
   "outputs": [],
   "source": []
  },
  {
   "cell_type": "code",
   "execution_count": null,
   "metadata": {},
   "outputs": [],
   "source": []
  }
 ],
 "metadata": {
  "kernelspec": {
   "display_name": "Python 3",
   "language": "python",
   "name": "python3"
  },
  "language_info": {
   "codemirror_mode": {
    "name": "ipython",
    "version": 3
   },
   "file_extension": ".py",
   "mimetype": "text/x-python",
   "name": "python",
   "nbconvert_exporter": "python",
   "pygments_lexer": "ipython3",
   "version": "3.7.3"
  }
 },
 "nbformat": 4,
 "nbformat_minor": 4
}
